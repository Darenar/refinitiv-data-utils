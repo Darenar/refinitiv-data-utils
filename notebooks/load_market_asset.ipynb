{
 "cells": [
  {
   "cell_type": "code",
   "execution_count": 28,
   "metadata": {},
   "outputs": [
    {
     "data": {
      "text/html": [
       "        <script type=\"text/javascript\">\n",
       "        window.PlotlyConfig = {MathJaxConfig: 'local'};\n",
       "        if (window.MathJax && window.MathJax.Hub && window.MathJax.Hub.Config) {window.MathJax.Hub.Config({SVG: {font: \"STIX-Web\"}});}\n",
       "        if (typeof require !== 'undefined') {\n",
       "        require.undef(\"plotly\");\n",
       "        requirejs.config({\n",
       "            paths: {\n",
       "                'plotly': ['https://cdn.plot.ly/plotly-2.20.0.min']\n",
       "            }\n",
       "        });\n",
       "        require(['plotly'], function(Plotly) {\n",
       "            window._Plotly = Plotly;\n",
       "        });\n",
       "        }\n",
       "        </script>\n",
       "        "
      ]
     },
     "metadata": {},
     "output_type": "display_data"
    }
   ],
   "source": [
    "import sys\n",
    "\n",
    "import eikon as ek\n",
    "import cufflinks as cf\n",
    "import pandas as pd\n",
    "from tqdm import tqdm\n",
    "\n",
    "sys.path.append('../')\n",
    "import src.eikon_utils as ek_utils\n",
    "from src.constants import MANUAL_ASSET_CODE_MAPPING\n",
    "\n",
    "cf.go_offline()"
   ]
  },
  {
   "cell_type": "code",
   "execution_count": 5,
   "metadata": {},
   "outputs": [
    {
     "name": "stdout",
     "output_type": "stream",
     "text": [
      "\n",
      "        Please, log in with the following credentials to the Refinitiv WorkSpace first. When logged in - press enter.\n",
      "\n",
      "\n",
      "        Username: UTS.Finance3@uts.edu.au\n",
      "\n",
      "        Password: copied to your system clipboard. Use CTRL+V on Windows or CMD+V on Mac to fill in the WorkSpace\n",
      "    \n"
     ]
    }
   ],
   "source": [
    "# Connect to the Eikon\n",
    "ek_utils.connect('../../data/configs/refinitiv-data.config_uts_3.json')"
   ]
  },
  {
   "cell_type": "code",
   "execution_count": 43,
   "metadata": {},
   "outputs": [],
   "source": [
    "history_index_df = ek_utils.load_index_constituents_historical('0#.DJI')\n",
    "# Each month has a list of constituents. Transform data frame to have (Date, Instrument) pairs\n",
    "history_index_df = history_index_df.explode('constituents')\n",
    "history_index_df.rename({'constituents': 'Instrument'}, axis=1, inplace=True)\n",
    "del history_index_df['num_companies']\n",
    "# Remove missing values\n",
    "history_index_df = history_index_df[\n",
    "    (history_index_df['Instrument'].notna())\n",
    "    &\n",
    "    (history_index_df['Instrument'].str.len()>0)    \n",
    "]"
   ]
  },
  {
   "cell_type": "code",
   "execution_count": 44,
   "metadata": {},
   "outputs": [
    {
     "name": "stderr",
     "output_type": "stream",
     "text": [
      "100%|██████████| 6/6 [00:02<00:00,  2.54it/s]\n"
     ]
    }
   ],
   "source": [
    "# For each instrument append an asset code\n",
    "# Load in batches, because Eikon may not return correct results otherwise\n",
    "\n",
    "BATCH = 10\n",
    "list_to_load = list(history_index_df['Instrument'].unique())\n",
    "\n",
    "index_mapping_df = list()\n",
    "for b_start in tqdm(range(0, len(list_to_load), BATCH)):\n",
    "    map_df = ek.get_symbology(list_to_load[b_start: b_start+BATCH])\n",
    "    index_mapping_df.append(map_df.copy())\n",
    "    del map_df\n",
    "index_mapping_df = pd.concat(index_mapping_df)\n",
    "index_mapping_df = index_mapping_df.rename_axis('Instrument').reset_index()\n",
    "index_mapping_df = index_mapping_df[['Instrument', 'OAPermID']]\n",
    "\n",
    "# Add Manual correction\n",
    "index_mapping_df = pd.concat([\n",
    "    index_mapping_df,\n",
    "    pd.DataFrame(\n",
    "        list(MANUAL_ASSET_CODE_MAPPING.items()), \n",
    "        columns=['Instrument', 'OAPermID']).explode('OAPermID')], \n",
    "        ignore_index=True)\n",
    "\n",
    "\n",
    "# Append asset IDs to the main instrument mapping\n",
    "history_index_df = pd.merge(\n",
    "    history_index_df,\n",
    "    index_mapping_df.groupby(\"Instrument\", as_index=False)['OAPermID'].agg(lambda v: list(set(v))), on='Instrument', how='left')\n",
    "history_index_df.rename({'OAPermID': 'assetCode'}, axis=1, inplace=True)"
   ]
  },
  {
   "cell_type": "code",
   "execution_count": 45,
   "metadata": {},
   "outputs": [],
   "source": [
    "# For CSCO.OQ - there are two assetCodes (pre + post mergers) [4295905952, 5080018615]. Remove PostMerge asset\n",
    "history_index_df.loc[:, 'assetCode'] = history_index_df['assetCode'].apply(lambda v: [z for z in v if z != '5080018615'])"
   ]
  },
  {
   "cell_type": "code",
   "execution_count": 49,
   "metadata": {},
   "outputs": [],
   "source": [
    "history_index_df.explode('assetCode').to_csv(\n",
    "    '../../data/general_dumps/history_index_df', \n",
    "    index=False)"
   ]
  }
 ],
 "metadata": {
  "kernelspec": {
   "display_name": "py39",
   "language": "python",
   "name": "python3"
  },
  "language_info": {
   "codemirror_mode": {
    "name": "ipython",
    "version": 3
   },
   "file_extension": ".py",
   "mimetype": "text/x-python",
   "name": "python",
   "nbconvert_exporter": "python",
   "pygments_lexer": "ipython3",
   "version": "3.9.15"
  },
  "orig_nbformat": 4
 },
 "nbformat": 4,
 "nbformat_minor": 2
}
